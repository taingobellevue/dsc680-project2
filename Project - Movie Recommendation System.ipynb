{
 "cells": [
  {
   "cell_type": "markdown",
   "metadata": {},
   "source": [
    "## Name: Tai Ngo\n",
    "## DSC-680: Applied Data Science\n",
    "## Project: Movie Recommendation System"
   ]
  },
  {
   "cell_type": "markdown",
   "metadata": {},
   "source": [
    "### Import libraries"
   ]
  },
  {
   "cell_type": "code",
   "execution_count": 1,
   "metadata": {},
   "outputs": [],
   "source": [
    "import pandas as pd\n",
    "import numpy as np\n",
    "import matplotlib.pyplot as plt\n",
    "\n",
    "import tensorflow as tf\n",
    "from tensorflow import keras\n",
    "from tensorflow.keras import layers\n",
    "from tensorflow.keras import models\n",
    "from pathlib import Path\n",
    "\n",
    "from zipfile import ZipFile\n",
    "\n",
    "import warnings\n",
    "warnings.filterwarnings(action='ignore')"
   ]
  },
  {
   "cell_type": "markdown",
   "metadata": {},
   "source": [
    "### Load the data from URL"
   ]
  },
  {
   "cell_type": "code",
   "execution_count": 2,
   "metadata": {},
   "outputs": [],
   "source": [
    "# url of the dataset\n",
    "movielens_dataset_url = (\"http://files.grouplens.org/datasets/movielens/ml-latest-small.zip\")\n",
    "\n",
    "# zip file\n",
    "movielens_zipfile = keras.utils.get_file(\"ml-latest-small.zip\", movielens_dataset_url, extract=False)\n",
    "\n",
    "# path to the zip file\n",
    "keras_datasets_path = Path(movielens_zipfile).parents[0]\n",
    "movielens_dir = keras_datasets_path / \"ml-latest-small\"\n",
    "\n",
    "# download the file once\n",
    "if not movielens_dir.exists():\n",
    "    with ZipFile(movielens_zipfile, 'r') as zip:\n",
    "        # extract\n",
    "        print(\"Extracting the files...\")\n",
    "        print(\"3...\")\n",
    "        print(\"2...\")\n",
    "        print(\"1...\")\n",
    "        print(\"0...\")\n",
    "        zip.extractall(path=keras_datasets_path)\n",
    "        print('File Extraction is done.')\n",
    "\n",
    "rating = movielens_dir / \"ratings.csv\"\n",
    "df = pd.read_csv(rating)"
   ]
  },
  {
   "cell_type": "markdown",
   "metadata": {},
   "source": [
    "### Data Preprocessing"
   ]
  },
  {
   "cell_type": "code",
   "execution_count": 3,
   "metadata": {},
   "outputs": [],
   "source": [
    "# encode the users and movies as indices\n",
    "\n",
    "# for users\n",
    "user_id = df['userId'].unique().tolist()\n",
    "user_to_user_encoded = {x: i for i, x in enumerate(user_id)}\n",
    "user_encoded_to_user = {i: x for i, x in enumerate(user_id)}\n",
    "\n",
    "# for movies\n",
    "movie_id = df['movieId'].unique().tolist()\n",
    "movie_to_movie_encoded = {x: i for i, x in enumerate(movie_id)}\n",
    "movie_encoded_to_movie = {i: x for i, x in enumerate(movie_id)}\n",
    "\n",
    "# create a new column for user\n",
    "df['user'] = df['userId'].map(user_to_user_encoded)\n",
    "\n",
    "# create a new column for movie\n",
    "df['movie'] = df['movieId'].map(movie_to_movie_encoded)"
   ]
  },
  {
   "cell_type": "code",
   "execution_count": 4,
   "metadata": {},
   "outputs": [],
   "source": [
    "# check number of users and movie\n",
    "num_users = len(user_to_user_encoded)\n",
    "num_movies = len(movie_to_movie_encoded)"
   ]
  },
  {
   "cell_type": "code",
   "execution_count": 5,
   "metadata": {},
   "outputs": [],
   "source": [
    "# convert rating to float32\n",
    "df['rating'] = df['rating'].values.astype(np.float32)"
   ]
  },
  {
   "cell_type": "code",
   "execution_count": 6,
   "metadata": {},
   "outputs": [],
   "source": [
    "# create a min and max rating\n",
    "min_rating = min(df['rating'])\n",
    "max_rating = max(df['rating'])"
   ]
  },
  {
   "cell_type": "code",
   "execution_count": 7,
   "metadata": {},
   "outputs": [
    {
     "name": "stdout",
     "output_type": "stream",
     "text": [
      "Number of users: 610\n",
      "Number of movies: 9724\n",
      "Min Rating: 0.5\n",
      "Max Rating: 5.0\n"
     ]
    }
   ],
   "source": [
    "# examine the data after preprocessing\n",
    "print('Number of users: {}'.format(num_users))\n",
    "print('Number of movies: {}'.format(num_movies))\n",
    "print('Min Rating: {}'.format(min_rating))\n",
    "print('Max Rating: {}'.format(max_rating))"
   ]
  },
  {
   "cell_type": "code",
   "execution_count": 8,
   "metadata": {},
   "outputs": [
    {
     "data": {
      "text/html": [
       "<div>\n",
       "<style scoped>\n",
       "    .dataframe tbody tr th:only-of-type {\n",
       "        vertical-align: middle;\n",
       "    }\n",
       "\n",
       "    .dataframe tbody tr th {\n",
       "        vertical-align: top;\n",
       "    }\n",
       "\n",
       "    .dataframe thead th {\n",
       "        text-align: right;\n",
       "    }\n",
       "</style>\n",
       "<table border=\"1\" class=\"dataframe\">\n",
       "  <thead>\n",
       "    <tr style=\"text-align: right;\">\n",
       "      <th></th>\n",
       "      <th>userId</th>\n",
       "      <th>movieId</th>\n",
       "      <th>rating</th>\n",
       "      <th>timestamp</th>\n",
       "      <th>user</th>\n",
       "      <th>movie</th>\n",
       "    </tr>\n",
       "  </thead>\n",
       "  <tbody>\n",
       "    <tr>\n",
       "      <th>0</th>\n",
       "      <td>1</td>\n",
       "      <td>1</td>\n",
       "      <td>4.0</td>\n",
       "      <td>964982703</td>\n",
       "      <td>0</td>\n",
       "      <td>0</td>\n",
       "    </tr>\n",
       "    <tr>\n",
       "      <th>1</th>\n",
       "      <td>1</td>\n",
       "      <td>3</td>\n",
       "      <td>4.0</td>\n",
       "      <td>964981247</td>\n",
       "      <td>0</td>\n",
       "      <td>1</td>\n",
       "    </tr>\n",
       "    <tr>\n",
       "      <th>2</th>\n",
       "      <td>1</td>\n",
       "      <td>6</td>\n",
       "      <td>4.0</td>\n",
       "      <td>964982224</td>\n",
       "      <td>0</td>\n",
       "      <td>2</td>\n",
       "    </tr>\n",
       "    <tr>\n",
       "      <th>3</th>\n",
       "      <td>1</td>\n",
       "      <td>47</td>\n",
       "      <td>5.0</td>\n",
       "      <td>964983815</td>\n",
       "      <td>0</td>\n",
       "      <td>3</td>\n",
       "    </tr>\n",
       "    <tr>\n",
       "      <th>4</th>\n",
       "      <td>1</td>\n",
       "      <td>50</td>\n",
       "      <td>5.0</td>\n",
       "      <td>964982931</td>\n",
       "      <td>0</td>\n",
       "      <td>4</td>\n",
       "    </tr>\n",
       "    <tr>\n",
       "      <th>5</th>\n",
       "      <td>1</td>\n",
       "      <td>70</td>\n",
       "      <td>3.0</td>\n",
       "      <td>964982400</td>\n",
       "      <td>0</td>\n",
       "      <td>5</td>\n",
       "    </tr>\n",
       "    <tr>\n",
       "      <th>6</th>\n",
       "      <td>1</td>\n",
       "      <td>101</td>\n",
       "      <td>5.0</td>\n",
       "      <td>964980868</td>\n",
       "      <td>0</td>\n",
       "      <td>6</td>\n",
       "    </tr>\n",
       "    <tr>\n",
       "      <th>7</th>\n",
       "      <td>1</td>\n",
       "      <td>110</td>\n",
       "      <td>4.0</td>\n",
       "      <td>964982176</td>\n",
       "      <td>0</td>\n",
       "      <td>7</td>\n",
       "    </tr>\n",
       "    <tr>\n",
       "      <th>8</th>\n",
       "      <td>1</td>\n",
       "      <td>151</td>\n",
       "      <td>5.0</td>\n",
       "      <td>964984041</td>\n",
       "      <td>0</td>\n",
       "      <td>8</td>\n",
       "    </tr>\n",
       "    <tr>\n",
       "      <th>9</th>\n",
       "      <td>1</td>\n",
       "      <td>157</td>\n",
       "      <td>5.0</td>\n",
       "      <td>964984100</td>\n",
       "      <td>0</td>\n",
       "      <td>9</td>\n",
       "    </tr>\n",
       "  </tbody>\n",
       "</table>\n",
       "</div>"
      ],
      "text/plain": [
       "   userId  movieId  rating  timestamp  user  movie\n",
       "0       1        1     4.0  964982703     0      0\n",
       "1       1        3     4.0  964981247     0      1\n",
       "2       1        6     4.0  964982224     0      2\n",
       "3       1       47     5.0  964983815     0      3\n",
       "4       1       50     5.0  964982931     0      4\n",
       "5       1       70     3.0  964982400     0      5\n",
       "6       1      101     5.0  964980868     0      6\n",
       "7       1      110     4.0  964982176     0      7\n",
       "8       1      151     5.0  964984041     0      8\n",
       "9       1      157     5.0  964984100     0      9"
      ]
     },
     "execution_count": 8,
     "metadata": {},
     "output_type": "execute_result"
    }
   ],
   "source": [
    "df.head(10)"
   ]
  },
  {
   "cell_type": "code",
   "execution_count": 9,
   "metadata": {},
   "outputs": [
    {
     "name": "stdout",
     "output_type": "stream",
     "text": [
      "<class 'pandas.core.frame.DataFrame'>\n",
      "RangeIndex: 100836 entries, 0 to 100835\n",
      "Data columns (total 6 columns):\n",
      "userId       100836 non-null int64\n",
      "movieId      100836 non-null int64\n",
      "rating       100836 non-null float32\n",
      "timestamp    100836 non-null int64\n",
      "user         100836 non-null int64\n",
      "movie        100836 non-null int64\n",
      "dtypes: float32(1), int64(5)\n",
      "memory usage: 4.2 MB\n"
     ]
    }
   ],
   "source": [
    "df.info()"
   ]
  },
  {
   "cell_type": "code",
   "execution_count": 10,
   "metadata": {},
   "outputs": [
    {
     "data": {
      "image/png": "[encoded data removed]",
      "text/plain": [
       "<Figure size 936x576 with 1 Axes>"
      ]
     },
     "metadata": {
      "needs_background": "light"
     },
     "output_type": "display_data"
    }
   ],
   "source": [
    "# examine the rating counts\n",
    "plt.figure(figsize=(13,8))\n",
    "plt.hist(df['rating'])\n",
    "plt.xlabel('Ratings')\n",
    "plt.ylabel('Count')\n",
    "plt.title('Rating Count')\n",
    "plt.show()"
   ]
  },
  {
   "cell_type": "markdown",
   "metadata": {},
   "source": [
    "### Prepare data for training and validation"
   ]
  },
  {
   "cell_type": "code",
   "execution_count": 11,
   "metadata": {},
   "outputs": [],
   "source": [
    "# return a random of samples of the dataframe\n",
    "df = df.sample(frac=1, random_state=42)"
   ]
  },
  {
   "cell_type": "code",
   "execution_count": 12,
   "metadata": {},
   "outputs": [],
   "source": [
    "# create x and y values from the dataframe\n",
    "x = df[['user', 'movie']].values\n",
    "y = df['rating'].apply(lambda x: (x - min_rating) / (max_rating - min_rating)).values"
   ]
  },
  {
   "cell_type": "code",
   "execution_count": 13,
   "metadata": {},
   "outputs": [],
   "source": [
    "# use 70% of the data for training\n",
    "train_indices = int(0.7 * df.shape[0])"
   ]
  },
  {
   "cell_type": "code",
   "execution_count": 14,
   "metadata": {},
   "outputs": [],
   "source": [
    "# set up the data for training and validation\n",
    "x_train, x_val, y_train, y_val = (\n",
    "    x[:train_indices],\n",
    "    x[train_indices:],\n",
    "    y[:train_indices],\n",
    "    y[train_indices:]\n",
    ")"
   ]
  },
  {
   "cell_type": "markdown",
   "metadata": {},
   "source": [
    "### Build a model"
   ]
  },
  {
   "cell_type": "code",
   "execution_count": 15,
   "metadata": {},
   "outputs": [],
   "source": [
    "# embed users and movies into vectors\n",
    "# the match score is computed between the users movies by a dot product\n",
    "# the match score is scale to 0 - 1 interval by a sigmoid\n",
    "\n",
    "# n-dimensional vector, n = 50 in this case\n",
    "embedding = 50\n",
    "\n",
    "class MovieRecommender(keras.Model):\n",
    "    \n",
    "    def __init__(self, num_users, num_movies, embedding, **kwargs):\n",
    "        super(MovieRecommender, self).__init__(**kwargs)\n",
    "        self.num_users = num_users\n",
    "        self.num_movies = num_movies\n",
    "        self.embedding = embedding\n",
    "        self.user_embedding = layers.Embedding(num_users, embedding, embeddings_initializer=\"he_normal\", embeddings_regularizer=keras.regularizers.l2(1e-6))\n",
    "        self.user_bias = layers.Embedding(num_users, 1)\n",
    "        self.movie_embedding = layers.Embedding(num_movies, embedding, embeddings_initializer=\"he_normal\", embeddings_regularizer=keras.regularizers.l2(1e-6))\n",
    "        self.movie_bias = layers.Embedding(num_movies, 1)\n",
    "    \n",
    "    def call(self, inputs):\n",
    "        user_vector = self.user_embedding(inputs[:,0])\n",
    "        user_bias = self.user_bias(inputs[:,0])\n",
    "        movie_vector = self.movie_embedding(inputs[:,1])\n",
    "        movie_bias = self.movie_bias(inputs[:,1])\n",
    "        d_user_movie = tf.tensordot(user_vector, movie_vector, 2)\n",
    "        \n",
    "        # add the user bias, movie bias and the dot product\n",
    "        x = user_bias + movie_bias + d_user_movie \n",
    "        \n",
    "        # the rating is between 0 and 1\n",
    "        return tf.nn.sigmoid(x)"
   ]
  },
  {
   "cell_type": "code",
   "execution_count": 16,
   "metadata": {},
   "outputs": [],
   "source": [
    "# create a model with number of users, movies and n-dimensional vector\n",
    "model = MovieRecommender(num_users, num_movies, embedding)\n",
    "\n",
    "# compile the model\n",
    "model.compile(loss=tf.keras.losses.BinaryCrossentropy(), optimizer=keras.optimizers.Adam(lr=0.001))"
   ]
  },
  {
   "cell_type": "code",
   "execution_count": 17,
   "metadata": {},
   "outputs": [
    {
     "name": "stdout",
     "output_type": "stream",
     "text": [
      "Epoch 1/10\n",
      "1094/1103 [============================>.] - ETA: 0s - loss: 0.6422WARNING:tensorflow:Callbacks method `on_test_batch_end` is slow compared to the batch time (batch time: 0.0000s vs `on_test_batch_end` time: 0.0010s). Check your callbacks.\n",
      "1103/1103 [==============================] - 5s 5ms/step - loss: 0.6420 - val_loss: 0.6214\n",
      "Epoch 2/10\n",
      "1103/1103 [==============================] - 5s 5ms/step - loss: 0.6164 - val_loss: 0.6268\n",
      "Epoch 3/10\n",
      "1103/1103 [==============================] - 5s 4ms/step - loss: 0.6102 - val_loss: 0.6147\n",
      "Epoch 4/10\n",
      "1103/1103 [==============================] - 5s 4ms/step - loss: 0.6075 - val_loss: 0.6140\n",
      "Epoch 5/10\n",
      "1103/1103 [==============================] - 5s 4ms/step - loss: 0.6069 - val_loss: 0.6144\n",
      "Epoch 6/10\n",
      "1103/1103 [==============================] - 5s 4ms/step - loss: 0.6068 - val_loss: 0.6124\n",
      "Epoch 7/10\n",
      "1103/1103 [==============================] - 5s 4ms/step - loss: 0.6061 - val_loss: 0.6104\n",
      "Epoch 8/10\n",
      "1103/1103 [==============================] - 5s 4ms/step - loss: 0.6063 - val_loss: 0.6117\n",
      "Epoch 9/10\n",
      "1103/1103 [==============================] - 5s 4ms/step - loss: 0.6056 - val_loss: 0.6102\n",
      "Epoch 10/10\n",
      "1103/1103 [==============================] - 5s 4ms/step - loss: 0.6044 - val_loss: 0.6133\n"
     ]
    }
   ],
   "source": [
    "# train the model\n",
    "history = model.fit(x=x_train, y=y_train, batch_size=64, epochs=10, verbose=1, validation_data=(x_val, y_val))"
   ]
  },
  {
   "cell_type": "code",
   "execution_count": 18,
   "metadata": {},
   "outputs": [
    {
     "data": {
      "image/png": "[encoded data removed]",
      "text/plain": [
       "<Figure size 936x576 with 1 Axes>"
      ]
     },
     "metadata": {
      "needs_background": "light"
     },
     "output_type": "display_data"
    }
   ],
   "source": [
    "# plot the training and validation data\n",
    "\n",
    "plt.figure(figsize=(13,8))\n",
    "plt.plot(history.history['loss'])\n",
    "plt.plot(history.history['val_loss'])\n",
    "plt.xlabel('Epochs')\n",
    "plt.ylabel('Loss')\n",
    "plt.title('Loss of the model')\n",
    "plt.legend(['train', 'test'], loc='upper right')\n",
    "plt.show()"
   ]
  },
  {
   "cell_type": "markdown",
   "metadata": {},
   "source": [
    "### Top 20 Movies to Recommend a User"
   ]
  },
  {
   "cell_type": "code",
   "execution_count": 19,
   "metadata": {},
   "outputs": [],
   "source": [
    "# load the dataset\n",
    "movie_df = pd.read_csv(movielens_dir / 'movies.csv')"
   ]
  },
  {
   "cell_type": "code",
   "execution_count": 20,
   "metadata": {},
   "outputs": [
    {
     "name": "stdout",
     "output_type": "stream",
     "text": [
      "Recommended Movies for user: 82\n",
      "\n",
      "\n",
      "Highly Rated Movies by user\n",
      "\n",
      "\n",
      "Raiders of the Lost Ark (Indiana Jones and the Raiders of the Lost Ark) (1981) - Action|Adventure\n",
      "Indiana Jones and the Last Crusade (1989) - Action|Adventure\n",
      "Lethal Weapon 2 (1989) - Action|Comedy|Crime|Drama\n",
      "Gladiator (2000) - Action|Adventure|Drama\n",
      "Bad Boys II (2003) - Action|Comedy|Crime|Thriller\n",
      "\n",
      "\n",
      "Top 20 Recommended Movies\n",
      "\n",
      "\n",
      "Braveheart (1995) - Action|Drama|War\n",
      "Star Wars: Episode IV - A New Hope (1977) - Action|Adventure|Sci-Fi\n",
      "Léon: The Professional (a.k.a. The Professional) (Léon) (1994) - Action|Crime|Drama|Thriller\n",
      "Forrest Gump (1994) - Comedy|Drama|Romance|War\n",
      "Jurassic Park (1993) - Action|Adventure|Sci-Fi|Thriller\n",
      "Terminator 2: Judgment Day (1991) - Action|Sci-Fi\n",
      "Godfather, The (1972) - Crime|Drama\n",
      "Reservoir Dogs (1992) - Crime|Mystery|Thriller\n",
      "Lethal Weapon (1987) - Action|Comedy|Crime|Drama\n",
      "Back to the Future Part II (1989) - Adventure|Comedy|Sci-Fi\n",
      "Saving Private Ryan (1998) - Action|Drama|War\n",
      "Payback (1999) - Action|Thriller\n",
      "Matrix, The (1999) - Action|Sci-Fi|Thriller\n",
      "Who Framed Roger Rabbit? (1988) - Adventure|Animation|Children|Comedy|Crime|Fantasy|Mystery\n",
      "Dogma (1999) - Adventure|Comedy|Fantasy\n",
      "Road Warrior, The (Mad Max 2) (1981) - Action|Adventure|Sci-Fi|Thriller\n",
      "Cast Away (2000) - Drama\n",
      "Lord of the Rings: The Fellowship of the Ring, The (2001) - Adventure|Fantasy\n",
      "Something's Gotta Give (2003) - Comedy|Drama|Romance\n",
      "Lord of the Rings: The Return of the King, The (2003) - Action|Adventure|Drama|Fantasy\n"
     ]
    }
   ],
   "source": [
    "# pick a user and see the recommendations\n",
    "user_id = df.userId.sample(1).iloc[0]\n",
    "movies_user_watched = df[df.userId == user_id]\n",
    "movies_user_not_watched = movie_df[movie_df['movieId'].isin(movies_user_watched.movieId.values)]['movieId']\n",
    "movies_user_not_watched = list(set(movies_user_not_watched).intersection(set(movie_to_movie_encoded.keys())))\n",
    "movies_user_not_watched = [[movie_to_movie_encoded.get(x)] for x in movies_user_not_watched]\n",
    "user_encoder = user_to_user_encoded.get(user_id)\n",
    "user_movie_array = np.hstack(([[user_encoder]] * len(movies_user_not_watched), movies_user_not_watched))\n",
    "\n",
    "ratings = model.predict(user_movie_array).flatten()\n",
    "top_ratings = ratings.argsort()[-20:][::-1]\n",
    "\n",
    "recommend_movies_id = [movie_encoded_to_movie.get(movies_user_not_watched[x][0]) for x in top_ratings]\n",
    "\n",
    "print(\"Recommended Movies for user: {}\".format(user_id))\n",
    "print('\\n')\n",
    "print('Highly Rated Movies by user')\n",
    "print('\\n')\n",
    "top_movies_rated = (movies_user_watched.sort_values(by='rating', ascending=False).head(5).movieId.values)\n",
    "movie_rows = movie_df[movie_df['movieId'].isin(top_movies_rated)]\n",
    "\n",
    "for row in movie_rows.itertuples():\n",
    "    print(row.title, \"-\", row.genres)\n",
    "    \n",
    "print('\\n')\n",
    "print('Top 20 Recommended Movies')\n",
    "print('\\n')\n",
    "recommended_movies = movie_df[movie_df['movieId'].isin(recommend_movies_id)]\n",
    "for row in recommended_movies.itertuples():\n",
    "    print(row.title, \"-\", row.genres)"
   ]
  },
  {
   "cell_type": "code",
   "execution_count": null,
   "metadata": {},
   "outputs": [],
   "source": []
  }
 ],
 "metadata": {
  "kernelspec": {
   "display_name": "Python 3",
   "language": "python",
   "name": "python3"
  },
  "language_info": {
   "codemirror_mode": {
    "name": "ipython",
    "version": 3
   },
   "file_extension": ".py",
   "mimetype": "text/x-python",
   "name": "python",
   "nbconvert_exporter": "python",
   "pygments_lexer": "ipython3",
   "version": "3.7.3"
  }
 },
 "nbformat": 4,
 "nbformat_minor": 2
}
